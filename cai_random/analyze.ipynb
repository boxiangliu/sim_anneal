{
 "cells": [
  {
   "cell_type": "code",
   "execution_count": 15,
   "id": "australian-rover",
   "metadata": {},
   "outputs": [],
   "source": [
    "import os\n",
    "os.chdir(\"/Users/boxiang/Documents/!-work/Baidu/projects/sim_anneal/scripts/\")\n",
    "import sys\n",
    "\n",
    "from utils.utils import read_fasta, cfg_file, load_config, CAI\n",
    "import numpy as np\n",
    "from tqdm import tqdm\n",
    "import pickle as pkl\n",
    "import subprocess\n",
    "\n",
    "from collections import defaultdict\n",
    "import pandas as pd\n",
    "from plotnine import ggplot, geom_point, geom_line, aes, theme_bw, \\\n",
    "    scale_color_manual, scale_shape_manual, theme, element_blank"
   ]
  },
  {
   "cell_type": "code",
   "execution_count": 2,
   "id": "complicated-correspondence",
   "metadata": {},
   "outputs": [],
   "source": [
    "from cai_random.optimize import CAIOptimizer, Plotter"
   ]
  },
  {
   "cell_type": "code",
   "execution_count": 3,
   "id": "described-magic",
   "metadata": {},
   "outputs": [],
   "source": [
    "# initialize:\n",
    "cfg = load_config(cfg_file)\n",
    "seqs = read_fasta(cfg.DATA.RAW.SPIKE)\n",
    "mfe_seq = seqs[\"lambda_0\"]\n",
    "cai_seq = seqs[\"lambda_inf\"]\n",
    "cai_calc = CAI(cfg.DATA.RAW.CODON)"
   ]
  },
  {
   "cell_type": "code",
   "execution_count": 4,
   "id": "dominican-remark",
   "metadata": {},
   "outputs": [
    {
     "name": "stderr",
     "output_type": "stream",
     "text": [
      "100%|██████████| 51/51 [13:40<00:00, 16.10s/it]\n"
     ]
    }
   ],
   "source": [
    "# mutate sequence and calculate MFE & CAI:\n",
    "optimizer = CAIOptimizer(mfe_seq, cai_seq)\n",
    "results = dict()\n",
    "for proportion in tqdm(np.arange(0, 1.001, 0.02)):\n",
    "    for seed in np.arange(1):\n",
    "        mut_seq = optimizer.mutate(proportion, seed=seed)\n",
    "        mfe = optimizer.get_mfe(seq=mut_seq, folding_cmd=cfg.BIN.RNAFOLD)\n",
    "        cai = cai_calc.get_cai(mut_seq)\n",
    "        results[(proportion, seed)] = [mut_seq, mfe, cai]\n",
    "        \n",
    "pkl_file = os.path.join(\n",
    "    cfg.DATA.PROCESSED.CAI_RANDOM, \"mutate_results.pkl\")\n",
    "with open(pkl_file, \"wb\") as f:\n",
    "    pkl.dump(results, f)"
   ]
  },
  {
   "cell_type": "code",
   "execution_count": 5,
   "id": "proud-export",
   "metadata": {},
   "outputs": [],
   "source": [
    "pkl_file = os.path.join(\n",
    "    cfg.DATA.PROCESSED.CAI_RANDOM, \"mutate_results.pkl\")\n",
    "with open(pkl_file, \"rb\") as f:\n",
    "    results = pkl.load(f)"
   ]
  },
  {
   "cell_type": "code",
   "execution_count": 16,
   "id": "referenced-tampa",
   "metadata": {},
   "outputs": [
    {
     "name": "stderr",
     "output_type": "stream",
     "text": [
      "/Users/boxiang/miniconda3/lib/python3.8/site-packages/plotnine/ggplot.py:719: PlotnineWarning: Saving 6.4 x 4.8 in image.\n",
      "/Users/boxiang/miniconda3/lib/python3.8/site-packages/plotnine/ggplot.py:722: PlotnineWarning: Filename: /Users/boxiang/Documents/!-work/Baidu/projects/sim_anneal/data/processed/cai_random/comparison.pdf\n"
     ]
    }
   ],
   "source": [
    "# make MFE-CAI plot:\n",
    "ref_points = pd.read_csv(cfg.DATA.RAW.REF_P)\n",
    "cai_random = [(k[0], k[1], v[1], v[2]) for k, v in results.items()]\n",
    "cai_random = pd.DataFrame(\n",
    "    cai_random, columns=[\"proportion\", \"seed\", \"MFE\", \"CAI\"])\n",
    "\n",
    "plotter = Plotter(ref_points)\n",
    "plotter.add_points(cai_random, name=\"Random Optimization\", color=\"red\", shape=\"^\")\n",
    "p = plotter.plot()\n",
    "p.save(os.path.join(cfg.DATA.PROCESSED.CAI_RANDOM, \"comparison.pdf\"))"
   ]
  },
  {
   "cell_type": "code",
   "execution_count": null,
   "id": "incorrect-speed",
   "metadata": {},
   "outputs": [],
   "source": []
  }
 ],
 "metadata": {
  "kernelspec": {
   "display_name": "Python 3",
   "language": "python",
   "name": "python3"
  },
  "language_info": {
   "codemirror_mode": {
    "name": "ipython",
    "version": 3
   },
   "file_extension": ".py",
   "mimetype": "text/x-python",
   "name": "python",
   "nbconvert_exporter": "python",
   "pygments_lexer": "ipython3",
   "version": "3.8.5"
  }
 },
 "nbformat": 4,
 "nbformat_minor": 5
}
